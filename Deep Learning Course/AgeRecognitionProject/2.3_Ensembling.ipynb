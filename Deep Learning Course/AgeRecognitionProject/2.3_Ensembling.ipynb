{
  "nbformat": 4,
  "nbformat_minor": 0,
  "metadata": {
    "colab": {
      "provenance": [],
      "machine_shape": "hm",
      "gpuType": "T4"
    },
    "kernelspec": {
      "name": "python3",
      "display_name": "Python 3"
    },
    "language_info": {
      "name": "python"
    },
    "accelerator": "GPU"
  },
  "cells": [
    {
      "cell_type": "markdown",
      "source": [
        "# Increasing Prediction Accuracy by using Ensembling Methods"
      ],
      "metadata": {
        "id": "euYOQ3FSI9Oj"
      }
    },
    {
      "cell_type": "code",
      "source": [
        "import numpy as np\n",
        "import pandas as pd\n",
        "import os\n",
        "import matplotlib.pyplot as plt\n",
        "import seaborn as sns\n",
        "from sklearn.metrics import accuracy_score"
      ],
      "metadata": {
        "id": "YLiWDi1-I9pV"
      },
      "execution_count": 1,
      "outputs": []
    },
    {
      "cell_type": "code",
      "source": [
        "from google.colab import drive\n",
        "drive.mount('/content/drive')"
      ],
      "metadata": {
        "colab": {
          "base_uri": "https://localhost:8080/"
        },
        "id": "L9BdvZwC3O4j",
        "outputId": "30a572e2-9ab9-436f-ad2b-e367c8192a96"
      },
      "execution_count": 2,
      "outputs": [
        {
          "output_type": "stream",
          "name": "stdout",
          "text": [
            "Mounted at /content/drive\n"
          ]
        }
      ]
    },
    {
      "cell_type": "markdown",
      "source": [
        "### Load required data"
      ],
      "metadata": {
        "id": "oiQmtq3QJKoV"
      }
    },
    {
      "cell_type": "code",
      "source": [
        "data_dir = '/content/drive/My Drive/processed_data/final_hope'\n",
        "\n",
        "X_test = np.load(os.path.join(data_dir, 'X_test.npy'))\n",
        "y_test = np.load(os.path.join(data_dir, 'y_test.npy'))\n",
        "y_train = np.load(os.path.join(data_dir, 'y_train.npy'))\n"
      ],
      "metadata": {
        "id": "_tODpiXg3QBM"
      },
      "execution_count": 3,
      "outputs": []
    },
    {
      "cell_type": "code",
      "source": [
        "true_labels = np.argmax(y_test, axis=1)"
      ],
      "metadata": {
        "id": "H-Forhlf8aKz"
      },
      "execution_count": 4,
      "outputs": []
    },
    {
      "cell_type": "markdown",
      "source": [
        "### Load best models based on test-accuracy"
      ],
      "metadata": {
        "id": "8k8enAc3JOp1"
      }
    },
    {
      "cell_type": "markdown",
      "source": [
        "Load best VGG-model:"
      ],
      "metadata": {
        "id": "Z1P_p9l9JhPp"
      }
    },
    {
      "cell_type": "code",
      "source": [
        "from tensorflow.keras.models import load_model\n",
        "\n",
        "# Load your models\n",
        "model_1 = load_model('/content/drive/My Drive/processed_data/NewLayer_Hopium.h5')\n"
      ],
      "metadata": {
        "id": "jtYcsOIz3XSF"
      },
      "execution_count": 5,
      "outputs": []
    },
    {
      "cell_type": "markdown",
      "source": [
        "Load best ResNet-model"
      ],
      "metadata": {
        "id": "yDdChl_hJk_x"
      }
    },
    {
      "cell_type": "code",
      "source": [
        "import tensorflow as tf\n",
        "from tensorflow.keras.models import load_model\n",
        "\n",
        "tf.keras.backend.clear_session()\n",
        "\n",
        "import tensorflow as tf\n",
        "from tensorflow.keras.applications import ResNet152V2\n",
        "from tensorflow.keras.models import Model\n",
        "from tensorflow.keras.layers import Conv2D, MaxPooling2D, UpSampling2D, concatenate, Input, Flatten, Dense, GlobalAveragePooling2D, Lambda, Reshape\n",
        "from tensorflow.keras.preprocessing.image import ImageDataGenerator\n",
        "from tensorflow.keras.optimizers import Adam\n",
        "from tensorflow.keras import layers\n",
        "from tensorflow.keras.regularizers import l2\n",
        "from tensorflow.keras.callbacks import EarlyStopping\n",
        "from tensorflow.keras.callbacks import ModelCheckpoint\n",
        "from tensorflow.keras.layers import Conv2D, BatchNormalization, MaxPooling2D, Flatten, Dense, Dropout\n",
        "from tensorflow.keras.layers import Input, Conv2D, BatchNormalization, MaxPooling2D, Flatten, Dense, Dropout\n",
        "\n",
        "\n",
        "def create_saliency_network(input_shape):\n",
        "    inputs = Input(shape=input_shape)\n",
        "\n",
        "    # Encoder: downsample the input\n",
        "    conv1 = Conv2D(64, (3, 3), activation='relu', padding='same')(inputs)\n",
        "    pool1 = MaxPooling2D((2, 2))(conv1)\n",
        "    conv2 = Conv2D(128, (3, 3), activation='relu', padding='same')(pool1)\n",
        "    pool2 = MaxPooling2D((2, 2))(conv2)\n",
        "\n",
        "    # Bottleneck\n",
        "    conv3 = Conv2D(256, (3, 3), activation='relu', padding='same')(pool2)\n",
        "\n",
        "    # Decoder: upsample the feature map\n",
        "    up1 = UpSampling2D((2, 2))(conv3)\n",
        "    merge1 = concatenate([conv2, up1], axis=-1)\n",
        "    conv4 = Conv2D(128, (3, 3), activation='relu', padding='same')(merge1)\n",
        "    up2 = UpSampling2D((2, 2))(conv4)\n",
        "    merge2 = concatenate([conv1, up2], axis=-1)\n",
        "    conv5 = Conv2D(64, (3, 3), activation='relu', padding='same')(merge2)\n",
        "\n",
        "    # Output a saliency map and replicate it across three channels\n",
        "    saliency_output = Conv2D(1, (1, 1), activation='sigmoid')(conv5)\n",
        "    replicated_output = Lambda(lambda x: tf.repeat(x, repeats=3, axis=-1))(saliency_output)\n",
        "\n",
        "    model = Model(inputs=inputs, outputs=replicated_output)\n",
        "    return model\n",
        "\n",
        "\n",
        "\n",
        "def create_age_model(input_shape):\n",
        "    # Saliency model\n",
        "    saliency_model = create_saliency_network(input_shape)\n",
        "\n",
        "    # Base ResNet152V2 model\n",
        "    base_model = ResNet152V2(include_top=False, weights='imagenet', input_shape=input_shape)\n",
        "    for layer in base_model.layers:\n",
        "        layer.trainable = False\n",
        "\n",
        "    # Connect the output of the saliency network to the input of the ResNet152V2 base model\n",
        "    resnet_output = base_model(saliency_model.output)\n",
        "\n",
        "    # Additional Convolutional Layer for further feature refinement\n",
        "    conv_layer = Conv2D(256, (3, 3), activation='relu', padding='same')(resnet_output)\n",
        "    batch_norm = BatchNormalization()(conv_layer)\n",
        "    dropout_layer = Dropout(0.5)(batch_norm)\n",
        "\n",
        "    # Flatten and dense layers for age prediction\n",
        "    flat_features = Flatten()(dropout_layer)\n",
        "    lri_features = Dense(2058, activation='relu',kernel_regularizer=l2(0.005))(flat_features)  # Simulating LRI\n",
        "    dr_reg1 = Dropout(0.25)(lri_features)\n",
        "    dense1 = Dense(1024, activation='relu',kernel_regularizer=l2(0.005))(dr_reg1)\n",
        "    dr_reg2 = Dropout(0.25)(dense1)\n",
        "    age_output = Dense(5, activation='softmax', name='age_output')(dr_reg2)\n",
        "\n",
        "    model = Model(inputs=saliency_model.input, outputs=age_output)\n",
        "    return model\n",
        "\n",
        "model_2 = create_age_model(input_shape=(224, 224, 3))\n",
        "model_2.compile(optimizer='adam',\n",
        "              loss='categorical_crossentropy',\n",
        "              metrics=['accuracy'])\n",
        "\n",
        "full_path_to_weights = '/content/drive/My Drive/processed_data/tom_weights.h5'\n",
        "\n",
        "# Attempt to load weights\n",
        "try:\n",
        "    model_2.load_weights(full_path_to_weights)\n",
        "    print(\"Weights loaded successfully.\")\n",
        "except ValueError as e:\n",
        "    print(f\"Failed to load weights: {e}\")"
      ],
      "metadata": {
        "id": "733oa-UM8BOF",
        "colab": {
          "base_uri": "https://localhost:8080/"
        },
        "outputId": "d5b124fc-5a53-4ed3-eeb1-20f86a6ee211"
      },
      "execution_count": 10,
      "outputs": [
        {
          "output_type": "stream",
          "name": "stdout",
          "text": [
            "Weights loaded successfully.\n"
          ]
        }
      ]
    },
    {
      "cell_type": "markdown",
      "source": [
        "### Single model prediction accuracies"
      ],
      "metadata": {
        "id": "s9Y8n7E5JoE7"
      }
    },
    {
      "cell_type": "code",
      "source": [
        "predictions_1 = model_1.predict(X_test)\n",
        "predictions_2 = model_2.predict(X_test)"
      ],
      "metadata": {
        "colab": {
          "base_uri": "https://localhost:8080/"
        },
        "id": "U1r0gJ-w3ab2",
        "outputId": "44d9356b-2d57-44a7-e7f4-517f72b30991"
      },
      "execution_count": 11,
      "outputs": [
        {
          "output_type": "stream",
          "name": "stdout",
          "text": [
            "118/118 [==============================] - 60s 381ms/step\n",
            "118/118 [==============================] - 52s 401ms/step\n"
          ]
        }
      ]
    },
    {
      "cell_type": "code",
      "source": [
        "# Convert probabilities to final class labels\n",
        "final_model1_predictions = np.argmax(predictions_1, axis=1)\n",
        "final_model2_predictions = np.argmax(predictions_2, axis=1)\n",
        "\n",
        "accuracy_model1 = accuracy_score(true_labels, final_model1_predictions)\n",
        "accuracy_model2 = accuracy_score(true_labels, final_model2_predictions)\n",
        "\n",
        "print(\"Model 1 Accuracy: {:.2f}%\".format(accuracy_model1 * 100))\n",
        "print(\"Model 2 Accuracy: {:.2f}%\".format(accuracy_model2 * 100))"
      ],
      "metadata": {
        "colab": {
          "base_uri": "https://localhost:8080/"
        },
        "id": "n2vsAO4yKG2J",
        "outputId": "a4e434f9-6c6e-4a63-b488-766a2afdd8f1"
      },
      "execution_count": 12,
      "outputs": [
        {
          "output_type": "stream",
          "name": "stdout",
          "text": [
            "Model 1 Accuracy: 67.18%\n",
            "Model 2 Accuracy: 64.49%\n"
          ]
        }
      ]
    },
    {
      "cell_type": "markdown",
      "source": [
        "### Ensemble prediction by simple averaging"
      ],
      "metadata": {
        "id": "f1kLl63OJxFx"
      }
    },
    {
      "cell_type": "markdown",
      "source": [
        "Interestingly, even this simple approach yields a significant improvement in overall accuracy:"
      ],
      "metadata": {
        "id": "Ljsb4nINTffx"
      }
    },
    {
      "cell_type": "code",
      "source": [
        "combined_predictions = (predictions_1 + predictions_2) / 2\n",
        "\n",
        "# Convert probabilities to final class labels\n",
        "ensemble_predictions = np.argmax(combined_predictions, axis=1)\n",
        "\n",
        "avg_ensemble_accuracy = accuracy_score(true_labels, ensemble_predictions)\n",
        "\n",
        "\n",
        "print(\"Simple Average Ensemble Accuracy: {:.2f}%\".format(avg_ensemble_accuracy * 100))\n"
      ],
      "metadata": {
        "id": "jjGxXdN33lre",
        "colab": {
          "base_uri": "https://localhost:8080/"
        },
        "outputId": "c5ded444-0edd-4330-fc6c-bbe854c66925"
      },
      "execution_count": 13,
      "outputs": [
        {
          "output_type": "stream",
          "name": "stdout",
          "text": [
            "Simple Average Ensemble Accuracy: 70.03%\n"
          ]
        }
      ]
    },
    {
      "cell_type": "markdown",
      "source": [
        "### Using a neural network for ensembling"
      ],
      "metadata": {
        "id": "z67rbzK8KUTU"
      }
    },
    {
      "cell_type": "markdown",
      "source": [
        "This model is trained on the predictions from both models and tries to learn the relation between the model predictions and the true labels. Creating the needed data sets:"
      ],
      "metadata": {
        "id": "RuXAJgcKKZyI"
      }
    },
    {
      "cell_type": "code",
      "source": [
        "from sklearn.model_selection import train_test_split\n",
        "\n",
        "# Define a more complex meta-model\n",
        "\n",
        "combined_predictions = np.concatenate([predictions_1, predictions_2], axis=1)\n",
        "\n",
        "# Split data for training and validation of the meta-model\n",
        "X_train, X_val, y_train, y_val = train_test_split(combined_predictions, y_test, test_size=0.1, random_state=42)\n"
      ],
      "metadata": {
        "id": "QVWJKDX4dgBx"
      },
      "execution_count": 14,
      "outputs": []
    },
    {
      "cell_type": "markdown",
      "source": [
        "Model architecture, compiling and fitting:"
      ],
      "metadata": {
        "id": "YakSf5ZUKuJN"
      }
    },
    {
      "cell_type": "code",
      "source": [
        "from tensorflow.keras.models import Sequential\n",
        "from tensorflow.keras.layers import Dense, Dropout\n",
        "from tensorflow.keras.optimizers import Adam\n",
        "from tensorflow.keras.callbacks import EarlyStopping, ReduceLROnPlateau\n",
        "\n",
        "# Define neural network to serve as the meta-model\n",
        "meta_model = Sequential([\n",
        "    Dense(512, activation='relu', input_shape=(combined_predictions.shape[1],)),\n",
        "\n",
        "    Dense(256, activation='relu'),\n",
        "\n",
        "    Dense(128, activation='relu'),\n",
        "\n",
        "    Dense(64, activation='relu'),\n",
        "\n",
        "    Dense(32, activation='relu'),\n",
        "\n",
        "    Dense(16, activation='relu'),\n",
        "\n",
        "    Dense(5, activation='softmax')\n",
        "])\n",
        "\n",
        "# Compile the meta-model\n",
        "optimizer = Adam(learning_rate=0.0001)\n",
        "meta_model.compile(optimizer=optimizer, loss='categorical_crossentropy', metrics=['accuracy'])\n",
        "\n",
        "# Callbacks for adaptive learning rate and early stopping\n",
        "reduce_lr = ReduceLROnPlateau(monitor='val_loss', factor=0.1, patience=5, min_lr=0.0000001)\n",
        "early_stopping = EarlyStopping(monitor='val_loss', patience=10, restore_best_weights=True)\n",
        "\n",
        "# Training the meta-model\n",
        "history = meta_model.fit(X_train, y_train,\n",
        "                         epochs=100,\n",
        "                         validation_data=(X_val, y_val),\n",
        "                         callbacks=[reduce_lr, early_stopping])\n",
        "\n",
        "# Evaluate the meta-model\n",
        "evaluation_results = meta_model.evaluate(X_val, y_val)\n",
        "print(f\"Meta-model evaluation results - Loss: {evaluation_results[0]}, Accuracy: {evaluation_results[1]}\")\n"
      ],
      "metadata": {
        "colab": {
          "base_uri": "https://localhost:8080/"
        },
        "id": "FyNKeXOkidrF",
        "outputId": "2e4c1134-0e92-4219-d76a-69a1336b178d"
      },
      "execution_count": 15,
      "outputs": [
        {
          "output_type": "stream",
          "name": "stdout",
          "text": [
            "Epoch 1/100\n",
            "106/106 [==============================] - 3s 6ms/step - loss: 1.3533 - accuracy: 0.4969 - val_loss: 1.1515 - val_accuracy: 0.4840 - lr: 1.0000e-04\n",
            "Epoch 2/100\n",
            "106/106 [==============================] - 0s 4ms/step - loss: 1.0504 - accuracy: 0.5620 - val_loss: 1.0739 - val_accuracy: 0.5399 - lr: 1.0000e-04\n",
            "Epoch 3/100\n",
            "106/106 [==============================] - 0s 4ms/step - loss: 0.9855 - accuracy: 0.6117 - val_loss: 1.0122 - val_accuracy: 0.6516 - lr: 1.0000e-04\n",
            "Epoch 4/100\n",
            "106/106 [==============================] - 0s 4ms/step - loss: 0.9126 - accuracy: 0.6959 - val_loss: 0.9467 - val_accuracy: 0.6676 - lr: 1.0000e-04\n",
            "Epoch 5/100\n",
            "106/106 [==============================] - 0s 4ms/step - loss: 0.8492 - accuracy: 0.7001 - val_loss: 0.8669 - val_accuracy: 0.6782 - lr: 1.0000e-04\n",
            "Epoch 6/100\n",
            "106/106 [==============================] - 0s 4ms/step - loss: 0.8051 - accuracy: 0.7087 - val_loss: 0.8372 - val_accuracy: 0.6862 - lr: 1.0000e-04\n",
            "Epoch 7/100\n",
            "106/106 [==============================] - 0s 4ms/step - loss: 0.7712 - accuracy: 0.7125 - val_loss: 0.8014 - val_accuracy: 0.6755 - lr: 1.0000e-04\n",
            "Epoch 8/100\n",
            "106/106 [==============================] - 0s 4ms/step - loss: 0.7482 - accuracy: 0.7090 - val_loss: 0.8072 - val_accuracy: 0.6968 - lr: 1.0000e-04\n",
            "Epoch 9/100\n",
            "106/106 [==============================] - 0s 4ms/step - loss: 0.7321 - accuracy: 0.7107 - val_loss: 0.7882 - val_accuracy: 0.6782 - lr: 1.0000e-04\n",
            "Epoch 10/100\n",
            "106/106 [==============================] - 0s 4ms/step - loss: 0.7221 - accuracy: 0.7072 - val_loss: 0.8055 - val_accuracy: 0.6862 - lr: 1.0000e-04\n",
            "Epoch 11/100\n",
            "106/106 [==============================] - 0s 4ms/step - loss: 0.7224 - accuracy: 0.7019 - val_loss: 0.7768 - val_accuracy: 0.6888 - lr: 1.0000e-04\n",
            "Epoch 12/100\n",
            "106/106 [==============================] - 0s 4ms/step - loss: 0.7169 - accuracy: 0.7007 - val_loss: 0.7902 - val_accuracy: 0.6702 - lr: 1.0000e-04\n",
            "Epoch 13/100\n",
            "106/106 [==============================] - 0s 4ms/step - loss: 0.7141 - accuracy: 0.7051 - val_loss: 0.7831 - val_accuracy: 0.6702 - lr: 1.0000e-04\n",
            "Epoch 14/100\n",
            "106/106 [==============================] - 0s 4ms/step - loss: 0.7107 - accuracy: 0.7084 - val_loss: 0.7798 - val_accuracy: 0.6809 - lr: 1.0000e-04\n",
            "Epoch 15/100\n",
            "106/106 [==============================] - 0s 4ms/step - loss: 0.7101 - accuracy: 0.7110 - val_loss: 0.7783 - val_accuracy: 0.6782 - lr: 1.0000e-04\n",
            "Epoch 16/100\n",
            "106/106 [==============================] - 0s 4ms/step - loss: 0.7088 - accuracy: 0.7066 - val_loss: 0.7861 - val_accuracy: 0.6835 - lr: 1.0000e-04\n",
            "Epoch 17/100\n",
            "106/106 [==============================] - 0s 4ms/step - loss: 0.7043 - accuracy: 0.7072 - val_loss: 0.7819 - val_accuracy: 0.6782 - lr: 1.0000e-05\n",
            "Epoch 18/100\n",
            "106/106 [==============================] - 0s 4ms/step - loss: 0.7015 - accuracy: 0.7081 - val_loss: 0.7789 - val_accuracy: 0.6809 - lr: 1.0000e-05\n",
            "Epoch 19/100\n",
            "106/106 [==============================] - 0s 4ms/step - loss: 0.7011 - accuracy: 0.7075 - val_loss: 0.7772 - val_accuracy: 0.6782 - lr: 1.0000e-05\n",
            "Epoch 20/100\n",
            "106/106 [==============================] - 0s 4ms/step - loss: 0.7009 - accuracy: 0.7072 - val_loss: 0.7797 - val_accuracy: 0.6782 - lr: 1.0000e-05\n",
            "Epoch 21/100\n",
            "106/106 [==============================] - 0s 4ms/step - loss: 0.7013 - accuracy: 0.7063 - val_loss: 0.7767 - val_accuracy: 0.6782 - lr: 1.0000e-05\n",
            "Epoch 22/100\n",
            "106/106 [==============================] - 0s 4ms/step - loss: 0.7004 - accuracy: 0.7081 - val_loss: 0.7784 - val_accuracy: 0.6755 - lr: 1.0000e-05\n",
            "Epoch 23/100\n",
            "106/106 [==============================] - 0s 4ms/step - loss: 0.7004 - accuracy: 0.7107 - val_loss: 0.7782 - val_accuracy: 0.6782 - lr: 1.0000e-05\n",
            "Epoch 24/100\n",
            "106/106 [==============================] - 0s 4ms/step - loss: 0.7003 - accuracy: 0.7078 - val_loss: 0.7771 - val_accuracy: 0.6809 - lr: 1.0000e-05\n",
            "Epoch 25/100\n",
            "106/106 [==============================] - 0s 4ms/step - loss: 0.7002 - accuracy: 0.7093 - val_loss: 0.7768 - val_accuracy: 0.6809 - lr: 1.0000e-05\n",
            "Epoch 26/100\n",
            "106/106 [==============================] - 0s 4ms/step - loss: 0.6999 - accuracy: 0.7084 - val_loss: 0.7774 - val_accuracy: 0.6809 - lr: 1.0000e-05\n",
            "Epoch 27/100\n",
            "106/106 [==============================] - 0s 4ms/step - loss: 0.6990 - accuracy: 0.7081 - val_loss: 0.7774 - val_accuracy: 0.6809 - lr: 1.0000e-06\n",
            "Epoch 28/100\n",
            "106/106 [==============================] - 0s 4ms/step - loss: 0.6990 - accuracy: 0.7084 - val_loss: 0.7773 - val_accuracy: 0.6809 - lr: 1.0000e-06\n",
            "Epoch 29/100\n",
            "106/106 [==============================] - 0s 4ms/step - loss: 0.6990 - accuracy: 0.7087 - val_loss: 0.7772 - val_accuracy: 0.6809 - lr: 1.0000e-06\n",
            "Epoch 30/100\n",
            "106/106 [==============================] - 0s 4ms/step - loss: 0.6990 - accuracy: 0.7081 - val_loss: 0.7773 - val_accuracy: 0.6809 - lr: 1.0000e-06\n",
            "Epoch 31/100\n",
            "106/106 [==============================] - 0s 4ms/step - loss: 0.6990 - accuracy: 0.7084 - val_loss: 0.7772 - val_accuracy: 0.6809 - lr: 1.0000e-06\n",
            "12/12 [==============================] - 0s 2ms/step - loss: 0.7767 - accuracy: 0.6782\n",
            "Meta-model evaluation results - Loss: 0.776688814163208, Accuracy: 0.6781914830207825\n"
          ]
        }
      ]
    },
    {
      "cell_type": "markdown",
      "source": [
        "### Hyperparameter optimization\n",
        "Since this is a simple model, we can perform extensive automated hyperparameter optimization in a reasonable amount of time using the 'keras_tuner' library's RandomSearch. We set up the hyper model using the 'RSHyperModel' class which is taylored to our ensembling model and allows for variation in the number of layers as well as all other basic hyperparameters."
      ],
      "metadata": {
        "id": "q-UDjpV7LJ9f"
      }
    },
    {
      "cell_type": "code",
      "source": [
        "from tensorflow import keras\n",
        "from tensorflow.keras.models import Sequential\n",
        "from tensorflow.keras.layers import Dense, Dropout\n",
        "from tensorflow.keras.optimizers import Adam\n",
        "from tensorflow.keras.callbacks import EarlyStopping, ReduceLROnPlateau\n",
        "from keras_tuner import HyperModel, RandomSearch\n",
        "\n",
        "class RSHyperModel(HyperModel):\n",
        "    def __init__(self, input_shape, num_classes):\n",
        "        self.input_shape = input_shape\n",
        "        self.num_classes = num_classes\n",
        "\n",
        "    def build(self, hp):\n",
        "        model = Sequential()\n",
        "        model.add(Dense(\n",
        "            units=hp.Int('units', min_value=32, max_value=512, step=32),\n",
        "            activation='relu', input_shape=self.input_shape))\n",
        "\n",
        "        for i in range(hp.Int('num_layers', 1, 5)):\n",
        "            model.add(Dense(\n",
        "                units=hp.Int(f'units_{i}', min_value=32, max_value=512, step=32),\n",
        "                activation='relu'))\n",
        "            model.add(Dropout(rate=hp.Float('dropout', min_value=0.0, max_value=0.5, step=0.1)))\n",
        "\n",
        "        model.add(Dense(self.num_classes, activation='softmax'))\n",
        "\n",
        "        model.compile(\n",
        "            optimizer=Adam(\n",
        "                learning_rate=hp.Float('learning_rate', min_value=1e-4, max_value=1e-2, sampling='LOG')),\n",
        "            loss='categorical_crossentropy',\n",
        "            metrics=['accuracy'])\n",
        "        return model\n",
        "\n",
        "# Instantiate the hypermodel\n",
        "hypermodel = RSHyperModel(input_shape=(combined_predictions.shape[1],), num_classes=5)\n"
      ],
      "metadata": {
        "id": "ITk3-uk1ptuM"
      },
      "execution_count": 17,
      "outputs": []
    },
    {
      "cell_type": "markdown",
      "source": [
        "Here we perform the Random search and save the best model:"
      ],
      "metadata": {
        "id": "NWKVGrJ-MfpU"
      }
    },
    {
      "cell_type": "code",
      "source": [
        "# Creating a tuner instance with the desired parameters\n",
        "tuner = RandomSearch(\n",
        "    hypermodel,\n",
        "    objective='val_accuracy',\n",
        "    max_trials=20,\n",
        "    executions_per_trial=1,\n",
        "    directory='my_dir',\n",
        "    project_name='keras_tuner_test'\n",
        ")\n",
        "\n",
        "# Callbacks\n",
        "reduce_lr = ReduceLROnPlateau(monitor='val_loss', factor=0.1, patience=5, min_lr=0.0000001)\n",
        "early_stopping = EarlyStopping(monitor='val_loss', patience=10, restore_best_weights=True)\n",
        "\n",
        "# Start search\n",
        "tuner.search(\n",
        "    X_train, y_train,\n",
        "    epochs=100,\n",
        "    validation_data=(X_val, y_val),\n",
        "    callbacks=[reduce_lr, early_stopping]\n",
        ")\n",
        "\n",
        "# Get the best model\n",
        "best_model = tuner.get_best_models(num_models=1)[0]\n"
      ],
      "metadata": {
        "colab": {
          "base_uri": "https://localhost:8080/"
        },
        "id": "ycX8bHDKpv7F",
        "outputId": "24f29a90-260f-44a5-9630-487443d87db3"
      },
      "execution_count": 18,
      "outputs": [
        {
          "output_type": "stream",
          "name": "stdout",
          "text": [
            "Trial 20 Complete [00h 00m 13s]\n",
            "val_accuracy: 0.686170220375061\n",
            "\n",
            "Best val_accuracy So Far: 0.7021276354789734\n",
            "Total elapsed time: 00h 04m 22s\n"
          ]
        }
      ]
    },
    {
      "cell_type": "markdown",
      "source": [
        "The best model achieves an accuracy of 70% on the validation set, though much more relevant is the resulting accuracy when we use this ensembling model to combine the original two models."
      ],
      "metadata": {
        "id": "mvFyEz33ND3i"
      }
    },
    {
      "cell_type": "code",
      "source": [
        "evaluation_results = best_model.evaluate(X_val, y_val)\n",
        "print(f\"Best model evaluation results - Loss: {evaluation_results[0]}, Accuracy: {evaluation_results[1]}\")"
      ],
      "metadata": {
        "colab": {
          "base_uri": "https://localhost:8080/"
        },
        "id": "Z-8mTCIZpyFG",
        "outputId": "4459209a-c3e9-48d7-a55a-66594c097459"
      },
      "execution_count": 19,
      "outputs": [
        {
          "output_type": "stream",
          "name": "stdout",
          "text": [
            "12/12 [==============================] - 0s 2ms/step - loss: 0.8489 - accuracy: 0.7021\n",
            "Best model evaluation results - Loss: 0.8488671183586121, Accuracy: 0.7021276354789734\n"
          ]
        }
      ]
    },
    {
      "cell_type": "markdown",
      "source": [
        "Using the model trained above to create an ensemble of the original models slightly improves accuracy to 70.27% (compared to 67.18% for the best single model):"
      ],
      "metadata": {
        "id": "ng9XfI_bN2no"
      }
    },
    {
      "cell_type": "code",
      "source": [
        "# Combine the predictions for the meta-model input\n",
        "combined_test_predictions = np.concatenate([predictions_1, predictions_2], axis=1)\n",
        "\n",
        "# Use meta-model to predict the final outputs\n",
        "final_predictions = best_model.predict(combined_test_predictions)\n",
        "ensemble_predicted_classes = np.argmax(final_predictions, axis=1)"
      ],
      "metadata": {
        "colab": {
          "base_uri": "https://localhost:8080/"
        },
        "id": "63mH2QuMmsGl",
        "outputId": "12a55f07-9049-4615-c01e-5032d2236e79"
      },
      "execution_count": 20,
      "outputs": [
        {
          "output_type": "stream",
          "name": "stdout",
          "text": [
            "118/118 [==============================] - 0s 2ms/step\n"
          ]
        }
      ]
    },
    {
      "cell_type": "code",
      "source": [
        "stacker_accuracy = accuracy_score(ensemble_predicted_classes, true_labels)\n",
        "print(\"Ensemble Classification Accuracy: {:.2f}%\".format(stacker_accuracy * 100))"
      ],
      "metadata": {
        "colab": {
          "base_uri": "https://localhost:8080/"
        },
        "id": "tCSCy5lEYusm",
        "outputId": "33c68608-8a8d-4e62-da48-c834efba16a4"
      },
      "execution_count": 21,
      "outputs": [
        {
          "output_type": "stream",
          "name": "stdout",
          "text": [
            "Ensemble Classification Accuracy: 70.27%\n"
          ]
        }
      ]
    },
    {
      "cell_type": "markdown",
      "source": [
        "### Creating an ensemble through logistic model stacking\n",
        "We can also combine the original model's predictions using a simpler model. In the code below we use a logistic model to get the ensemble predictions. As might be expected, this approach leads to lower classification accuracy than the much more complex neural model. Surprisingly, it also performs worse than the simple average."
      ],
      "metadata": {
        "id": "tRMmG5OiOmke"
      }
    },
    {
      "cell_type": "code",
      "source": [
        "from sklearn.linear_model import LogisticRegression\n",
        "\n",
        "combined_predictions = np.concatenate([predictions_1, predictions_2], axis=1)\n",
        "\n",
        "X_train_stack, X_val_stack, y_train_stack, y_val_stack = train_test_split(\n",
        "    combined_predictions, y_test, test_size=0.2, random_state=42)\n",
        "\n",
        "y_train_stack = np.argmax(y_train_stack, axis=1)\n",
        "y_val_stack = np.argmax(y_val_stack, axis=1)\n",
        "\n",
        "stacker = LogisticRegression()\n",
        "stacker.fit(X_train_stack, y_train_stack)\n",
        "\n",
        "y_pred_stack = stacker.predict(X_val_stack)\n",
        "stacker_accuracy = accuracy_score(y_val_stack, y_pred_stack)\n",
        "print(\"Stacker Accuracy: {:.2f}%\".format(stacker_accuracy * 100))\n"
      ],
      "metadata": {
        "colab": {
          "base_uri": "https://localhost:8080/"
        },
        "id": "X6j6DAHDwNuJ",
        "outputId": "62bc43db-590a-4291-a399-6c5eabc2d7b9"
      },
      "execution_count": 22,
      "outputs": [
        {
          "output_type": "stream",
          "name": "stdout",
          "text": [
            "Stacker Accuracy: 68.22%\n"
          ]
        }
      ]
    },
    {
      "cell_type": "markdown",
      "source": [
        "## Results for the best ensembling method (neural network)"
      ],
      "metadata": {
        "id": "bCi1urA4RUP8"
      }
    },
    {
      "cell_type": "code",
      "source": [
        "from sklearn.metrics import confusion_matrix\n",
        "import matplotlib.pyplot as plt\n",
        "import seaborn as sns\n",
        "\n",
        "cm = confusion_matrix(true_labels, ensemble_predicted_classes)\n",
        "print(cm)\n",
        "# Plot the confusion matrix\n",
        "plt.figure(figsize=(10, 8))\n",
        "sns.heatmap(cm, annot=True, fmt='d', cmap='Blues')\n",
        "plt.title('Confusion Matrix for Test Set')\n",
        "plt.xlabel('Predicted Categories')\n",
        "plt.ylabel('True Categories')\n",
        "plt.show()"
      ],
      "metadata": {
        "colab": {
          "base_uri": "https://localhost:8080/",
          "height": 803
        },
        "id": "_nytBZT-Rbrf",
        "outputId": "547fa20f-113d-40b7-b5a6-150af3e0b5e8"
      },
      "execution_count": 23,
      "outputs": [
        {
          "output_type": "stream",
          "name": "stdout",
          "text": [
            "[[413 160   5   4  10]\n",
            " [ 68 746 189   3   0]\n",
            " [  8 221 697  72   2]\n",
            " [  7  18 179 381  91]\n",
            " [  2   1  12  65 403]]\n"
          ]
        },
        {
          "output_type": "display_data",
          "data": {
            "text/plain": [
              "<Figure size 1000x800 with 2 Axes>"
            ],
            "image/png": "[encoded data removed]"
          },
          "metadata": {}
        }
      ]
    },
    {
      "cell_type": "code",
      "source": [
        "# Calculate class-wise accuracy and round it to two decimal places\n",
        "class_accuracies = np.round(cm.diagonal() / cm.sum(axis=1), 4)\n",
        "\n",
        "class_accuracies"
      ],
      "metadata": {
        "colab": {
          "base_uri": "https://localhost:8080/"
        },
        "id": "FzX3wsTgSe-A",
        "outputId": "77f8cc27-7769-4258-e52a-968b80176051"
      },
      "execution_count": 24,
      "outputs": [
        {
          "output_type": "execute_result",
          "data": {
            "text/plain": [
              "array([0.6976, 0.7416, 0.697 , 0.5636, 0.8344])"
            ]
          },
          "metadata": {},
          "execution_count": 24
        }
      ]
    },
    {
      "cell_type": "code",
      "source": [
        "def one_off_accuracy(y_true, y_pred):\n",
        "\n",
        "    # Compute the absolute difference between true and predicted classes\n",
        "    abs_diff = tf.abs(y_true - y_pred)\n",
        "\n",
        "    # Check if the prediction is exact or off by one\n",
        "    correct_or_one_off = tf.cast(tf.less_equal(abs_diff, 1), tf.float32)\n",
        "\n",
        "    # Compute the mean accuracy of being correct or one-off\n",
        "    return tf.reduce_mean(correct_or_one_off)\n",
        "\n",
        "one_off_accuracy(ensemble_predicted_classes, true_labels)"
      ],
      "metadata": {
        "colab": {
          "base_uri": "https://localhost:8080/"
        },
        "id": "WQq-Op62ShjF",
        "outputId": "d679ee68-c3f5-4516-e1fa-0fd151e0f562"
      },
      "execution_count": 25,
      "outputs": [
        {
          "output_type": "execute_result",
          "data": {
            "text/plain": [
              "<tf.Tensor: shape=(), dtype=float32, numpy=0.9808358>"
            ]
          },
          "metadata": {},
          "execution_count": 25
        }
      ]
    }
  ]
}