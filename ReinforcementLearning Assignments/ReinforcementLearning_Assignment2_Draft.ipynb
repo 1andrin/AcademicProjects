{
 "cells": [
  {
   "cell_type": "markdown",
   "id": "95cdcfa0",
   "metadata": {},
   "source": [
    "### In this homework assigment, you are required to apply the neural fitted Q-iteration algorithm to a pre-collected dataset for batch (offline) policy optimisation. Please follow the instructions detailed below."
   ]
  },
  {
   "cell_type": "markdown",
   "id": "875d34bd",
   "metadata": {},
   "source": [
    "Step 1: Generate an offline dataset. Consider the CartPole example. We will use a sub-optimal policy for data generation. Specifically, consider the following deterministic policy $\\pi_b$ that returns 0 (left) if the pole angle is negative and 1 otherwise. To allow exploration, we set the behavior policy to be a mixture of $\\pi_b$ and a uniform random policy. Specifically, the agent will follow the uniform random policy or $\\pi_b$ with equal probability. We simulate 100 episodes under this policy. This yields the offline dataset.\n",
    "\n",
    "Step 2: Fitted Q-iteration. We will apply the neural fitted Q-iteration (FQI) algorithm to this offline data to compute an optimal policy with three different choices of $\\gamma$, corresponding to 0.95, 0.99 and 1. Please refer to Page 43 of Lecture 5 for the pseudocode of FQI in batch settings. We repeat the Q-iteration 20 times, e.g., apply supervised learning algorithms 20 times to learn the optimal Q-function. The initial Q-estimator can be set to a zero function. Each iteration yields a Q-estimator, based on which we can derive an estimated optimal policy. In total, we obtain 20 $\\times$ 3 (3 choices of $\\gamma$) different policies.\n",
    "\n",
    "* To combine FQI with neural networks, we consider using the [MLPregressor](https://scikit-learn.org/stable/modules/generated/sklearn.neural_network.MLPRegressor.html) function. We can use the default neural network architecture (no need to specify no. of layers or no. of hidden nodes per layer). We may set the maximum number of iterations to 500.\n",
    "\n",
    "* In this example, we only have two actions (either pushing the cart to the left or to the right). As such, it would be better to use the second type of value function approximators on Page 11 of Lecture 5 (e.g., for each action, use a separate model for the value). The last type of approximators would be preferred in settings where we have a large action space.\n",
    "\n",
    "* The TD target depends on whether the current state is a terminal state or not. For a nonterminal state, the TD target is constructed as in the lecture slide. For a terminal state, the TD target is equal to the immediate reward.\n",
    "\n",
    "Step 3: Policy evaluation. For each of the computed 60 policies, we use the Monte Carlo method to evaluate the expected return under this policy, by generating 1000 episodes. Finally, plot all the returns in a single figure and comment on the results."
   ]
  },
  {
   "cell_type": "code",
   "execution_count": 1,
   "id": "bd9d3f9d",
   "metadata": {},
   "outputs": [
    {
     "name": "stdout",
     "output_type": "stream",
     "text": [
      "Dataset generated with 4213 entries.\n"
     ]
    }
   ],
   "source": [
    "import gymnasium as gym\n",
    "import numpy as np\n",
    "\n",
    "env = gym.make('CartPole-v1')\n",
    "\n",
    "def pi_b(state):\n",
    "    return 0 if state[2] < 0 else 1\n",
    "\n",
    "offline_dat = {'state': [], 'action': [], 'reward': [], 'next_state': [], 'done': []}\n",
    "\n",
    "for episode in range(100):\n",
    "    state_info = env.reset()\n",
    "    state = state_info[0] \n",
    "    done = False\n",
    "    while not done:\n",
    "        if np.random.rand() < 0.5:\n",
    "            action = pi_b(state)\n",
    "        else:\n",
    "            action = env.action_space.sample()\n",
    "\n",
    "        output = env.step(action)\n",
    "        next_state, reward, done = output[0], output[1], output[2]\n",
    "        \n",
    "        offline_dat['state'].append(state)\n",
    "        offline_dat['action'].append(action)\n",
    "        offline_dat['reward'].append(reward)\n",
    "        offline_dat['next_state'].append(next_state)\n",
    "        offline_dat['done'].append(done)\n",
    "        \n",
    "        state = next_state\n",
    "\n",
    "for key in offline_dat:\n",
    "    offline_dat[key] = np.array(offline_dat[key])\n",
    "\n",
    "print(\"Dataset generated with\", len(offline_dat['state']), \"entries.\")\n"
   ]
  },
  {
   "cell_type": "code",
   "execution_count": 2,
   "id": "79f555a3",
   "metadata": {},
   "outputs": [],
   "source": [
    "from sklearn.neural_network import MLPRegressor\n",
    "\n",
    "gammas = [0.95, 0.99, 1]\n",
    "\n",
    "policies = {}\n",
    "\n",
    "for gamma in gammas:\n",
    "    Q_estimators = {\n",
    "        0: MLPRegressor(max_iter=500, warm_start=True),\n",
    "        1: MLPRegressor(max_iter=500, warm_start=True)\n",
    "    }\n",
    "    \n",
    "    zero_target = np.zeros((len(offline_dat['state']),))\n",
    "    Q_estimators[0].fit(offline_dat['state'], zero_target)\n",
    "    Q_estimators[1].fit(offline_dat['state'], zero_target)\n",
    "    \n",
    "    for k in range(20):\n",
    "        targets = []\n",
    "        \n",
    "        for state, action, reward, next_state, done in zip(\n",
    "                offline_dat['state'], offline_dat['action'], offline_dat['reward'], offline_dat['next_state'], offline_dat['done']):\n",
    "            \n",
    "            if done:\n",
    "                target = reward\n",
    "            else:\n",
    "                Q_values_next_state = [estimator.predict(next_state.reshape(1, -1))[0] for estimator in Q_estimators.values()]\n",
    "                target = reward + gamma * np.max(Q_values_next_state)\n",
    "            \n",
    "            targets.append(target)\n",
    "        \n",
    "        targets = np.array(targets)\n",
    "        \n",
    "        for action in [0, 1]:\n",
    "            indices = np.where(offline_dat['action'] == action)\n",
    "            Q_estimators[action].fit(offline_dat['state'][indices], targets[indices])\n",
    "    \n",
    "    def policy(state):\n",
    "        Q_values = [Q_estimators[action].predict(state.reshape(1, -1))[0] for action in [0, 1]]\n",
    "        return np.argmax(Q_values)\n",
    "\n",
    "    policies[gamma] = policy\n"
   ]
  },
  {
   "cell_type": "code",
   "execution_count": 3,
   "id": "fc282b35",
   "metadata": {},
   "outputs": [],
   "source": [
    "def make_policy(Q_estimators):\n",
    "    def policy(state_tuple):\n",
    "        state_array = state_tuple[0] \n",
    "        reshaped_state = state_array.reshape(1, -1)\n",
    "\n",
    "        Q_values = [Q_estimators[a].predict(reshaped_state)[0] for a in range(2)]\n",
    "        return np.argmax(Q_values)\n",
    "    return policy\n",
    "\n",
    "policies = {gamma: make_policy(Q_estimators) for gamma in gammas}\n",
    "\n",
    "# Function to run a single episode and compute total discouted reward\n",
    "def run_episode(env, policy, gamma):\n",
    "    state_info = env.reset()\n",
    "    done = False\n",
    "    total_reward = 0.0\n",
    "    discount_factor = 1.0\n",
    "    while not done:\n",
    "        action = policy(state_info)\n",
    "        output = env.step(action)\n",
    "        state_info = (output[0], {})\n",
    "        reward, done = output[1], output[2]\n",
    "        total_reward += reward * discount_factor\n",
    "        discount_factor *= gamma\n",
    "    return total_reward\n",
    "\n",
    "policy_returns = {}\n",
    "\n",
    "for gamma in gammas:\n",
    "    policy_returns[gamma] = []\n",
    "\n",
    "for gamma in gammas:\n",
    "    policy = policies[gamma]\n",
    "\n",
    "    for j in range(1000):\n",
    "        episode_return = run_episode(env, policy, gamma)\n",
    "        policy_returns[gamma].append(episode_return)\n"
   ]
  },
  {
   "cell_type": "code",
   "execution_count": 4,
   "id": "a749bc9e",
   "metadata": {},
   "outputs": [
    {
     "data": {
      "image/png": "[encoded data removed]",
      "text/plain": [
       "<Figure size 1200x800 with 1 Axes>"
      ]
     },
     "metadata": {},
     "output_type": "display_data"
    }
   ],
   "source": [
    "import matplotlib.pyplot as plt\n",
    "\n",
    "plt.figure(figsize=(12, 8))\n",
    "for gamma, returns in policy_returns.items():\n",
    "    plt.hist(returns, bins=30, alpha=0.5, label=f'Gamma {gamma}')\n",
    "plt.title('Policy Evaluation using Monte Carlo Method')\n",
    "plt.xlabel('Total Return')\n",
    "plt.ylabel('Frequency')\n",
    "plt.legend()\n",
    "plt.show()"
   ]
  },
  {
   "cell_type": "markdown",
   "id": "46393078",
   "metadata": {},
   "source": [
    "Effect of Gamma: The different gamma values (0.95, 0.99, and 1) show varying peaks in returns. The gamma value influences how future rewards are discounted, with a higher gamma placing more emphasis on future rewards.\n",
    "\n",
    "- Gamma 0.95: This policy seems to have a wider distribution and lower returns overall. This suggests that it migth be more short-sighted, prioritizing immediate rewards over future rewards.\n",
    "\n",
    "- Gamma 0.99: This distribution is slightly shifted towards higher returns copared to gamma 0.95, indicating a more balanced approach between immediate and future rewards.\n",
    "\n",
    "- Gamma 1: The policy with gamma set to 1 (no discounting) shows a distribution heavily skewed towards higher returns, which suggests that this policy is highly focused on the long-term accumulation of rewards. The fact that the distribution is narrow might also imply that the policy has learned to consistently perform actions that prevent the pole from falling over for a significant duration.\n",
    "\n",
    "Overall, the plot looks a bit unusual, and I don't know why the returns are clustered around few values. However, the general outcome does have a interpretable structure inline with what we could expect."
   ]
  }
 ],
 "metadata": {
  "kernelspec": {
   "display_name": "Python 3 (ipykernel)",
   "language": "python",
   "name": "python3"
  },
  "language_info": {
   "codemirror_mode": {
    "name": "ipython",
    "version": 3
   },
   "file_extension": ".py",
   "mimetype": "text/x-python",
   "name": "python",
   "nbconvert_exporter": "python",
   "pygments_lexer": "ipython3",
   "version": "3.11.0"
  }
 },
 "nbformat": 4,
 "nbformat_minor": 5
}
